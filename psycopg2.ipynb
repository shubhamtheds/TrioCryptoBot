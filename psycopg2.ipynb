{
 "cells": [
  {
   "cell_type": "code",
   "execution_count": 1,
   "id": "13d516f9",
   "metadata": {},
   "outputs": [],
   "source": [
    "import psycopg2 \n",
    "import time\n",
    "from psycopg2.extras import RealDictCursor\n"
   ]
  },
  {
   "cell_type": "code",
   "execution_count": 2,
   "id": "b54111b8",
   "metadata": {},
   "outputs": [
    {
     "name": "stdout",
     "output_type": "stream",
     "text": [
      "database connection was successful\n"
     ]
    }
   ],
   "source": [
    "while True:\n",
    "    try:\n",
    "        connection = psycopg2.connect(host=\"db.tssgvpptyobppacqdivg.supabase.co\", database=\"postgres\", user=\"postgres\", password=\"panda_supabase\", cursor_factory=RealDictCursor)\n",
    "        cursor = connection.cursor()\n",
    "        print(\"database connection was successful\")\n",
    "        break\n",
    "    except Exception as error:\n",
    "        print(\"database connection fail\")\n",
    "        print(\"Error: \", error)\n",
    "        time.sleep(2)"
   ]
  },
  {
   "cell_type": "code",
   "execution_count": 3,
   "id": "509f79f5",
   "metadata": {},
   "outputs": [],
   "source": [
    "def create_table():\n",
    "    cursor.execute(\"\"\"CREATE TABLE users (\n",
    "    user_id int,\n",
    "    first_name varchar(255),\n",
    "    city varchar(255));\"\"\")\n",
    "    connection.commit()\n",
    "    \n",
    "    "
   ]
  },
  {
   "cell_type": "code",
   "execution_count": 4,
   "id": "98f2da0a",
   "metadata": {},
   "outputs": [],
   "source": [
    "#create_table()"
   ]
  },
  {
   "cell_type": "code",
   "execution_count": 5,
   "id": "80ad4552",
   "metadata": {},
   "outputs": [],
   "source": [
    "def add_user(user_id, first_name, city):\n",
    "    cursor.execute(\"\"\"INSERT INTO users (user_id, first_name, city) VALUES (%s, %s, %s) RETURNING *\"\"\", (user_id, first_name, city))\n",
    "    connection.commit()\n",
    "    "
   ]
  },
  {
   "cell_type": "code",
   "execution_count": 6,
   "id": "c0264031",
   "metadata": {},
   "outputs": [],
   "source": [
    "add_user(3, \"vinod\", \"lkn\")"
   ]
  },
  {
   "cell_type": "code",
   "execution_count": 9,
   "id": "5b71a1a1",
   "metadata": {},
   "outputs": [
    {
     "name": "stdout",
     "output_type": "stream",
     "text": [
      "[RealDictRow([('user_id', 1), ('first_name', 'shubhu'), ('city', 'bly')]), RealDictRow([('user_id', 2), ('first_name', 'raju'), ('city', 'pbt')]), RealDictRow([('user_id', 3), ('first_name', 'vinod'), ('city', 'lkn')]), RealDictRow([('user_id', 4), ('first_name', 'kanu'), ('city', 'kanpur')])]\n"
     ]
    }
   ],
   "source": [
    "cursor.execute(\"\"\"SELECT * FROM users\"\"\")\n",
    "all_users = cursor.fetchall()\n",
    "print(all_users)\n"
   ]
  },
  {
   "cell_type": "code",
   "execution_count": 8,
   "id": "212d32a1",
   "metadata": {},
   "outputs": [],
   "source": [
    "add_user(4, \"kanu\", \"kanpur\")"
   ]
  },
  {
   "cell_type": "code",
   "execution_count": null,
   "id": "39f50ec9",
   "metadata": {},
   "outputs": [],
   "source": []
  }
 ],
 "metadata": {
  "kernelspec": {
   "display_name": "Python 3 (ipykernel)",
   "language": "python",
   "name": "python3"
  },
  "language_info": {
   "codemirror_mode": {
    "name": "ipython",
    "version": 3
   },
   "file_extension": ".py",
   "mimetype": "text/x-python",
   "name": "python",
   "nbconvert_exporter": "python",
   "pygments_lexer": "ipython3",
   "version": "3.9.11"
  },
  "varInspector": {
   "cols": {
    "lenName": 16,
    "lenType": 16,
    "lenVar": 40
   },
   "kernels_config": {
    "python": {
     "delete_cmd_postfix": "",
     "delete_cmd_prefix": "del ",
     "library": "var_list.py",
     "varRefreshCmd": "print(var_dic_list())"
    },
    "r": {
     "delete_cmd_postfix": ") ",
     "delete_cmd_prefix": "rm(",
     "library": "var_list.r",
     "varRefreshCmd": "cat(var_dic_list()) "
    }
   },
   "types_to_exclude": [
    "module",
    "function",
    "builtin_function_or_method",
    "instance",
    "_Feature"
   ],
   "window_display": false
  }
 },
 "nbformat": 4,
 "nbformat_minor": 5
}
